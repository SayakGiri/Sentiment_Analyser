{
 "cells": [
  {
   "cell_type": "code",
   "execution_count": 11,
   "metadata": {},
   "outputs": [
    {
     "name": "stdout",
     "output_type": "stream",
     "text": [
      "       sentiment                                            reviews\n",
      "count      25000                                              25000\n",
      "unique         3                                              24801\n",
      "top            1  Loved today's show!!! It was a variety and not...\n",
      "freq       12500                                                  5\n",
      "       sentiment                                            reviews\n",
      "count      25000                                              25000\n",
      "unique         2                                              24904\n",
      "top            1  You do realize that you've been watching the E...\n",
      "freq       12500                                                  3\n",
      "0        sentiment\n",
      "1                1\n",
      "2                1\n",
      "3                1\n",
      "4                1\n",
      "           ...    \n",
      "24995            0\n",
      "24996            0\n",
      "24997            0\n",
      "24998            0\n",
      "24999            0\n",
      "Name: sentiment, Length: 25000, dtype: object\n"
     ]
    }
   ],
   "source": [
    "import pandas as pd\n",
    "from nltk.stem import WordNetLemmatizer\n",
    "import matplotlib.pyplot as plot \n",
    "import numpy as np\n",
    "import nltk\n",
    "import re\n",
    "from nltk.tokenize import word_tokenize\n",
    "from nltk.corpus import stopwords\n",
    "from sklearn.metrics import accuracy_score\n",
    "from sklearn.feature_extraction.text import TfidfVectorizer\n",
    "from sklearn.metrics import confusion_matrix\n",
    "from sklearn.linear_model import SGDClassifier\n",
    "from sklearn.metrics import precision_score\n",
    "from sklearn.metrics import recall_score\n",
    "from sklearn.metrics import classification_report\n",
    "import warnings\n",
    "df=pd.read_csv(r'C:\\Users\\Nicsi\\Downloads\\movie_review_data.csv',sep=\",\", names=['sentiment','reviews'])\n",
    "df.loc[:, ['sentiment', 'reviews']] = df[['reviews', 'sentiment']].to_numpy()\n",
    "traindf =df.iloc[0:25000]\n",
    "testdf = df.iloc[25000:50000]\n",
    "print(traindf.describe())\n",
    "print(testdf.describe())\n",
    "print(traindf.sentiment)\n",
    "warnings.filterwarnings(\"ignore\")"
   ]
  },
  {
   "cell_type": "code",
   "execution_count": 13,
   "metadata": {},
   "outputs": [],
   "source": [
    "lemmatizer = WordNetLemmatizer()\n",
    "def lem_tokens(tokens, lemmatizer):\n",
    "    lemmetized = []\n",
    "    for item in tokens:\n",
    "        lemmetized.append(lemmatizer.lemmatize(item))\n",
    "    return lemmetized\n",
    "\n",
    "def tokenize(text):\n",
    "    text = re.sub(r'\\b\\w{1,3}\\b', '',text)\n",
    "    text = re.sub(\"[^a-zA-Z]\", \" \", text)\n",
    "    tokens = nltk.word_tokenize(text)\n",
    "\n",
    "    stems = lem_tokens(tokens, lemmatizer)\n",
    "    return stems"
   ]
  },
  {
   "cell_type": "code",
   "execution_count": 14,
   "metadata": {},
   "outputs": [
    {
     "name": "stdout",
     "output_type": "stream",
     "text": [
      "{'review': 723, 'based': 71, 'actual': 10, 'story': 834, 'john': 457, 'show': 780, 'american': 30, 'doctor': 227, 'whose': 968, 'husband': 432, 'sister': 791, 'seemed': 759, 'like': 495, 'good': 379, 'idea': 433, 'away': 62, 'could': 178, 'leave': 490, 'country': 179, 'forced': 344, 'stay': 827, 'back': 66, 'took': 896, 'trip': 906, 'tried': 905, 'something': 801, 'nothing': 600, 'suddenly': 850, 'hell': 404, 'caught': 129, 'political': 661, 'looked': 510, 'train': 903, 'shot': 779, 'second': 754, 'decided': 207, 'moving': 577, 'thought': 886, 'life': 493, 'woman': 974, 'save': 740, 'another': 37, 'beautiful': 76, 'look': 508, 'heart': 403, 'always': 27, 'keep': 461, 'film': 320, 'four': 350, 'production': 686, 'quality': 692, 'indeed': 441, 'great': 384, 'style': 845, 'well': 961, 'simply': 788, 'long': 505, 'point': 658, 'know': 471, 'happened': 394, 'guess': 388, 'lack': 473, 'person': 640, 'slow': 794, 'aspect': 52, 'unlike': 922, 'documentary': 228, 'showing': 781, 'side': 784, 'also': 25, 'people': 634, 'left': 491, 'behind': 83, 'stop': 832, 'time': 891, 'hour': 424, 'seeing': 757, 'made': 518, 'really': 707, 'drama': 233, 'romance': 733, 'comedy': 160, 'married': 532, 'mother': 566, 'experience': 288, 'watching': 954, 'mostly': 565, 'family': 300, 'channel': 137, 'date': 198, 'going': 377, 'think': 882, 'female': 314, 'would': 987, 'male': 528, 'enjoy': 258, 'half': 391, 'seems': 760, 'give': 373, 'chance': 134, 'never': 593, 'seen': 761, 'favorite': 307, 'character': 138, 'though': 885, 'take': 859, 'happy': 396, 'viewing': 937, 'best': 87, 'disney': 226, 'certainly': 133, 'better': 88, 'original': 618, 'place': 646, 'audience': 57, 'barely': 70, 'movie': 568, 'even': 269, 'beat': 75, 'greatest': 386, 'musical': 582, 'little': 500, 'others': 620, 'brought': 111, 'face': 292, 'throughout': 889, 'entire': 264, 'totally': 898, 'effect': 247, 'three': 887, 'first': 331, 'excellent': 282, 'horror': 420, 'tale': 863, 'third': 884, 'park': 626, 'lady': 474, 'towards': 900, 'sense': 764, 'expect': 285, 'situation': 792, 'society': 797, 'blood': 94, 'quite': 695, 'cinematography': 147, 'among': 31, 'said': 739, 'le': 484, 'fall': 298, 'many': 530, 'might': 552, 'work': 979, 'since': 789, 'humor': 429, 'element': 250, 'funny': 356, 'indian': 442, 'room': 735, 'last': 479, 'night': 596, 'talking': 867, 'ever': 273, 'write': 988, 'spot': 819, 'opinion': 616, 'line': 498, 'started': 825, 'secret': 755, 'fast': 305, 'even though': 270, 'wonderful': 976, 'world': 982, 'fact': 293, 'action': 7, 'single': 790, 'bring': 107, 'probably': 682, 'theme': 880, 'almost': 21, 'standard': 822, 'part': 627, 'background': 67, 'accent': 3, 'although': 26, 'watch': 951, 'feeling': 312, 'nice': 595, 'truly': 909, 'mind': 554, 'soul': 808, 'need': 590, 'black': 93, 'white': 966, 'powerful': 673, 'deep': 209, 'shown': 782, 'touch': 899, 'supporting': 852, 'cast': 126, 'performance': 637, 'superb': 851, 'fair': 295, 'whole': 967, 'exactly': 280, 'rate': 697, 'highly': 409, 'critic': 192, 'viewer': 936, 'agree': 18, 'rating': 699, 'type': 916, 'adaptation': 12, 'completely': 168, 'different': 219, 'common': 164, 'scene': 744, 'apparently': 44, 'together': 894, 'especially': 268, 'still': 831, 'love': 514, 'saying': 742, 'watched': 953, 'acting': 6, 'incredible': 439, 'notice': 601, 'find': 328, 'looking': 511, 'whatever': 964, 'order': 617, 'turn': 913, 'make': 522, 'word': 978, 'come': 159, 'alive': 20, 'every': 276, 'actor': 8, 'play': 650, 'role': 732, 'peter': 642, 'amazing': 28, 'perfect': 635, 'real': 702, 'hero': 406, 'sure': 854, 'whether': 965, 'money': 562, 'high': 407, 'voice': 942, 'general': 362, 'hard': 397, 'father': 306, 'possibly': 669, 'clearly': 152, 'brother': 110, 'name': 585, 'remember': 717, 'perfectly': 636, 'smart': 796, 'reason': 708, 'romantic': 734, 'weak': 958, 'novel': 602, 'feel': 310, 'early': 241, 'pretty': 677, 'cold': 156, 'ending': 256, 'costume': 177, 'music': 581, 'script': 752, 'extremely': 290, 'clever': 153, 'done': 230, 'usually': 928, 'doe': 229, 'entirely': 265, 'version': 932, 'meant': 541, 'mystery': 584, 'making': 527, 'reality': 705, 'fiction': 315, 'villain': 938, 'love story': 515, 'like movie': 496, 'movie really': 575, 'game': 358, 'flick': 336, 'move': 567, 'brain': 104, 'head': 400, 'plan': 648, 'anything': 41, 'expecting': 287, 'million': 553, 'spent': 816, 'special': 813, 'involved': 449, 'suck': 849, 'plot': 656, 'enjoyable': 259, 'enough': 261, 'plenty': 655, 'twist': 915, 'leaf': 487, 'break': 105, 'lost': 512, 'great movie': 385, 'movie would': 576, 'special effect': 814, 'movie like': 572, 'absolutely': 2, 'girl': 371, 'tell': 873, 'series': 767, 'running': 736, 'check': 142, 'rest': 720, 'believe': 86, 'become': 79, 'everything': 278, 'middle': 551, 'stuff': 843, 'understand': 918, 'boyfriend': 103, 'without': 973, 'success': 847, 'hope': 418, 'someone': 800, 'weird': 960, 'liked': 497, 'modern': 560, 'interesting': 448, 'casting': 127, 'taking': 862, 'lot': 513, 'surprise': 855, 'star': 823, 'silly': 785, 'definitely': 210, 'scary': 743, 'michael': 550, 'robert': 730, 'supposed': 853, 'appears': 47, 'release': 714, 'director': 224, 'material': 536, 'filmed': 324, 'say': 741, 'italian': 453, 'playing': 653, 'simple': 787, 'chase': 140, 'purpose': 691, 'played': 651, 'previous': 680, 'score': 748, 'mark': 531, 'entertainment': 263, 'seen movie': 762, 'feature': 309, 'classic': 150, 'wife': 969, 'school': 745, 'year': 995, 'somewhat': 803, 'daughter': 199, 'opening': 614, 'sequence': 766, 'title': 892, 'kid': 463, 'none': 598, 'violence': 939, 'crime': 191, 'gave': 361, 'effort': 248, 'house': 425, 'please': 654, 'watch movie': 952, 'high school': 408, 'make movie': 524, 'future': 357, 'group': 387, 'land': 476, 'already': 24, 'problem': 683, 'richard': 725, 'however': 426, 'soon': 805, 'upon': 923, 'strange': 838, 'acted': 5, 'location': 504, 'creature': 187, 'science': 746, 'picture': 644, 'particularly': 629, 'getting': 368, 'predictable': 674, 'get': 367, 'spoiler': 818, 'sequel': 765, 'sort': 807, 'take place': 860, 'ever made': 274, 'company': 165, 'boy': 102, 'much': 578, 'cute': 194, 'convincing': 173, 'start': 824, 'event': 271, 'small': 795, 'baby': 65, 'go': 376, 'try': 911, 'able': 1, 'kind': 468, 'movie even': 569, 'recently': 709, 'despite': 213, 'home': 416, 'later': 481, 'deal': 203, 'younger': 998, 'mood': 564, 'dead': 202, 'older': 611, 'step': 829, 'creepy': 189, 'light': 494, 'want': 946, 'certain': 132, 'appreciate': 48, 'otherwise': 621, 'miss': 556, 'reference': 712, 'mean': 539, 'actually': 11, 'adult': 14, 'genre': 364, 'cliche': 154, 'level': 492, 'police': 660, 'course': 181, 'fire': 330, 'case': 125, 'thing': 881, 'sometimes': 802, 'subject': 846, 'matter': 537, 'shoot': 776, 'recommended': 711, 'fear': 308, 'evil': 279, 'must': 583, 'finally': 327, 'budget': 112, 'decent': 205, 'horror movie': 422, 'episode': 266, 'flaw': 335, 'missed': 557, 'deserves': 212, 'credit': 188, 'setting': 771, 'giving': 375, 'basic': 72, 'begin': 81, 'scientist': 747, 'space': 811, 'ship': 775, 'friend': 353, 'jack': 454, 'wrong': 992, 'living': 502, 'entertaining': 262, 'offer': 607, 'either': 249, 'becomes': 80, 'clear': 151, 'help': 405, 'ended': 255, 'bizarre': 92, 'violent': 940, 'total': 897, 'season': 753, 'blue': 95, 'former': 347, 'appear': 45, 'cool': 174, 'giant': 370, 'eye': 291, 'overall': 623, 'least': 489, 'around': 50, 'given': 374, 'dialogue': 217, 'else': 251, 'nearly': 589, 'steal': 828, 'appearance': 46, 'alien': 19, 'race': 696, 'called': 117, 'human': 428, 'belief': 84, 'killed': 465, 'death': 204, 'escape': 267, 'change': 135, 'similar': 786, 'mentioned': 547, 'earlier': 240, 'happens': 395, 'trying': 912, 'set': 770, 'fan': 302, 'story line': 835, 'look like': 509, 'dumb': 239, 'laugh': 482, 'period': 639, 'right': 728, 'hollywood': 415, 'released': 715, 'thinking': 883, 'true': 908, 'rent': 718, 'studio': 842, 'track': 902, 'manages': 529, 'fantastic': 303, 'everyone': 277, 'view': 935, 'cinema': 146, 'wait': 943, 'english': 257, 'told': 895, 'care': 121, 'york': 996, 'suspense': 857, 'kept': 462, 'bunch': 114, 'actress': 9, 'directing': 222, 'seem': 758, 'shooting': 777, 'moment': 561, 'figure': 318, 'killing': 467, 'portrayal': 665, 'possible': 668, 'david': 200, 'worst': 984, 'movie good': 571, 'full': 355, 'several': 772, 'spirit': 817, 'brings': 108, 'present': 676, 'us': 924, 'end': 254, 'first time': 332, 'television': 872, 'neither': 592, 'post': 670, 'copy': 175, 'child': 144, 'maybe': 538, 'worked': 980, 'anyone': 40, 'seriously': 769, 'comment': 163, 'french': 352, 'murder': 580, 'history': 411, 'large': 478, 'emotional': 253, 'meaning': 540, 'close': 155, 'real life': 703, 'make sense': 525, 'masterpiece': 534, 'created': 186, 'fairly': 296, 'focus': 337, 'lead': 485, 'prison': 681, 'short': 778, 'screen': 750, 'near': 588, 'term': 876, 'slightly': 793, 'loved': 516, 'business': 115, 'today': 893, 'america': 29, 'movie made': 573, 'difficult': 220, 'pull': 689, 'master': 533, 'nature': 587, 'fails': 294, 'teen': 870, 'career': 122, 'written': 991, 'team': 869, 'open': 613, 'couple': 180, 'front': 354, 'hear': 401, 'alone': 22, 'forward': 348, 'relationship': 713, 'direction': 223, 'emotion': 252, 'apart': 43, 'leading': 486, 'strong': 840, 'young': 997, 'guy': 389, 'charles': 139, 'british': 109, 'involving': 450, 'personal': 641, 'mention': 546, 'late': 480, 'minute': 555, 'complete': 167, 'wonder': 975, 'note': 599, 'found': 349, 'remake': 716, 'hitchcock': 412, 'knew': 470, 'way': 957, 'james': 455, 'rather': 698, 'popular': 664, 'stage': 820, 'horse': 423, 'question': 693, 'joke': 458, 'power': 672, 'control': 172, 'using': 926, 'talent': 864, 'bond': 97, 'famous': 301, 'attempt': 55, 'image': 434, 'piece': 645, 'editing': 246, 'incredibly': 440, 'stick': 830, 'flat': 334, 'final': 326, 'walk': 945, 'fine': 329, 'pure': 690, 'girlfriend': 372, 'forget': 345, 'fight': 316, 'awesome': 63, 'trash': 904, 'taken': 861, 'oscar': 619, 'enjoyed': 260, 'beauty': 77, 'except': 283, 'poor': 662, 'waiting': 944, 'meet': 542, 'truth': 910, 'eventually': 272, 'development': 215, 'atmosphere': 53, 'main': 519, 'across': 4, 'follow': 339, 'main character': 520, 'brilliant': 106, 'battle': 74, 'realistic': 704, 'number': 604, 'language': 477, 'plus': 657, 'straight': 837, 'used': 925, 'song': 804, 'dark': 197, 'dance': 195, 'worth': 986, 'german': 366, 'much better': 579, 'film ever': 321, 'read': 700, 'book': 98, 'recommend': 710, 'went': 962, 'nobody': 597, 'disappointed': 225, 'gone': 378, 'came': 118, 'horrible': 419, 'anyway': 42, 'heard': 402, 'dream': 235, 'scott': 749, 'producer': 685, 'talented': 865, 'building': 113, 'extra': 289, 'spend': 815, 'terrible': 877, 'amount': 32, 'project': 687, 'crew': 190, 'working': 981, 'huge': 427, 'memory': 545, 'easy': 244, 'animal': 34, 'often': 609, 'obvious': 605, 'visual': 941, 'answer': 38, 'respect': 719, 'next': 594, 'day': 201, 'dialog': 216, 'self': 763, 'within': 972, 'ever seen': 275, 'western': 963, 'pick': 643, 'attack': 54, 'army': 49, 'interest': 446, 'along': 23, 'reading': 701, 'instead': 444, 'happen': 393, 'mistake': 559, 'soundtrack': 810, 'opera': 615, 'color': 158, 'yeah': 994, 'filled': 319, 'somehow': 799, 'typical': 917, 'camera': 119, 'kill': 464, 'bill': 91, 'coming': 162, 'aside': 51, 'telling': 874, 'anti': 39, 'felt': 313, 'cover': 182, 'sound': 809, 'city': 148, 'important': 437, 'rock': 731, 'avoid': 60, 'film like': 322, 'island': 451, 'beyond': 89, 'badly': 68, 'band': 69, 'member': 543, 'became': 78, 'live': 501, 'water': 956, 'form': 346, 'easily': 243, 'sadly': 738, 'list': 499, 'class': 149, 'journey': 460, 'depth': 211, 'culture': 193, 'unique': 920, 'positive': 667, 'result': 721, 'expected': 286, 'beginning': 82, 'ride': 726, 'detail': 214, 'admit': 13, 'various': 931, 'obviously': 606, 'serious': 768, 'gore': 381, 'considering': 171, 'th': 878, 'william': 970, 'storyline': 836, 'week': 959, 'okay': 610, 'changed': 136, 'attention': 56, 'follows': 341, 'hole': 414, 'animation': 35, 'example': 281, 'directed': 221, 'parent': 625, 'issue': 452, 'realize': 706, 'folk': 338, 'following': 340, 'sorry': 806, 'stupid': 844, 'worse': 983, 'cheesy': 143, 'quickly': 694, 'thriller': 888, 'writer': 989, 'call': 116, 'nudity': 603, 'pointless': 659, 'teenager': 871, 'hold': 413, 'hand': 392, 'good movie': 380, 'annoying': 36, 'wish': 971, 'rich': 724, 'george': 365, 'learn': 488, 'including': 438, 'hate': 399, 'available': 58, 'cost': 176, 'video': 934, 'imdb': 436, 'unless': 921, 'surprised': 856, 'adventure': 15, 'create': 185, 'comic': 161, 'hardly': 398, 'carry': 123, 'trouble': 907, 'throw': 890, 'humour': 430, 'one': 612, 'intelligent': 445, 'college': 157, 'missing': 558, 'zombie': 999, 'monster': 563, 'body': 96, 'hilarious': 410, 'crap': 183, 'door': 231, 'maker': 526, 'believable': 85, 'edge': 245, 'soldier': 798, 'return': 722, 'road': 729, 'usual': 927, 'free': 351, 'decide': 206, 'victim': 933, 'particular': 628, 'fighting': 317, 'value': 929, 'talk': 866, 'see': 756, 'store': 833, 'local': 503, 'plane': 649, 'drug': 237, 'doubt': 232, 'stand': 821, 'outside': 622, 'produced': 684, 'street': 839, 'killer': 466, 'past': 631, 'state': 826, 'movie movie': 574, 'shame': 774, 'office': 608, 'century': 131, 'camp': 120, 'known': 472, 'government': 382, 'cause': 130, 'five': 333, 'message': 549, 'fantasy': 304, 'familiar': 299, 'boring': 100, 'horror film': 421, 'pretty much': 679, 'lover': 517, 'memorable': 544, 'sweet': 858, 'wanted': 947, 'force': 343, 'public': 688, 'major': 521, 'bother': 101, 'unfortunately': 919, 'film made': 323, 'tension': 875, 'inside': 443, 'filmmaker': 325, 'sexual': 773, 'sick': 783, 'premise': 675, 'named': 586, 'ability': 0, 'wrote': 993, 'paul': 633, 'long time': 506, 'interested': 447, 'writing': 990, 'pace': 624, 'genius': 363, 'movie ever': 570, 'honest': 417, 'feel like': 311, 'party': 630, 'cheap': 141, 'decides': 208, 'speak': 812, 'average': 59, 'hurt': 431, 'jones': 459, 'perhaps': 638, 'theater': 879, 'screenplay': 751, 'ridiculous': 727, 'japanese': 456, 'longer': 507, 'vampire': 930, 'affair': 16, 'imagine': 435, 'dull': 238, 'hair': 390, 'ghost': 369, 'died': 218, 'gang': 359, 'pretty good': 678, 'basically': 73, 'award': 61, 'needed': 591, 'make film': 523, 'catch': 128, 'student': 841, 'turned': 914, 'choice': 145, 'king': 469, 'agent': 17, 'match': 535, 'cartoon': 124, 'compared': 166, 'russian': 737, 'grade': 383, 'exciting': 284, 'player': 652, 'dramatic': 234, 'potential': 671, 'footage': 342, 'bored': 99, 'concept': 170, 'laughing': 483, 'portrayed': 666, 'town': 901, 'mess': 548, 'dancing': 196, 'watching movie': 955, 'awful': 64, 'successful': 848, 'wood': 977, 'drive': 236, 'computer': 169, 'biggest': 90, 'fake': 297, 'plain': 647, 'crazy': 184, 'amusing': 33, 'garbage': 360, 'earth': 242, 'wasted': 950, 'taste': 868, 'lame': 475, 'poorly': 663, 'waste': 948, 'waste time': 949, 'pathetic': 632, 'worst movie': 985}\n"
     ]
    }
   ],
   "source": [
    "stopset=set(stopwords.words('english'))\n",
    "'''\n",
    "we can create our model using our training data. In creating the model, \n",
    "I will use the TF-IDF as the vectorizer and the Stochastic Gradient Descend algorithm as the classifier.\n",
    "'''\n",
    " \n",
    "vectorizer=TfidfVectorizer(use_idf=True,ngram_range=(1,2), lowercase=True,tokenizer=tokenize,strip_accents='ascii',max_features=1000,stop_words=stopset,norm='l1')\n",
    "\n",
    "train_sentiments =traindf.sentiment\n",
    "\n",
    "train_text = vectorizer.fit_transform(traindf.reviews)\n",
    "\n",
    "vocab = vectorizer.vocabulary_\n",
    "\n",
    "print(vocab)"
   ]
  },
  {
   "cell_type": "code",
   "execution_count": 15,
   "metadata": {},
   "outputs": [],
   "source": [
    "test_sentiment=testdf.sentiment\n",
    "test_text=vectorizer.transform(testdf.reviews)\n",
    "\n",
    "\n",
    "\n",
    "classifier = SGDClassifier(alpha=1e-05,max_iter=50,penalty='elasticnet')\n",
    "\n",
    "classifier = classifier.fit(train_text, train_sentiments)"
   ]
  },
  {
   "cell_type": "code",
   "execution_count": 16,
   "metadata": {},
   "outputs": [
    {
     "name": "stdout",
     "output_type": "stream",
     "text": [
      "Model Accuracy:0.85\n",
      "              precision    recall  f1-score   support\n",
      "\n",
      "           0       0.86      0.84      0.85     12500\n",
      "           1       0.85      0.86      0.85     12500\n",
      "\n",
      "   micro avg       0.85      0.85      0.85     25000\n",
      "   macro avg       0.85      0.85      0.85     25000\n",
      "weighted avg       0.85      0.85      0.85     25000\n",
      "\n",
      "[[10539  1961]\n",
      " [ 1758 10742]]\n"
     ]
    }
   ],
   "source": [
    "predictions = classifier.predict(test_text)\n",
    "\n",
    "\n",
    "acc = accuracy_score(test_sentiment, predictions, normalize=True)\n",
    "hit = precision_score(test_sentiment, predictions, average=None)\n",
    "capture = recall_score(test_sentiment, predictions, average=None)\n",
    "print('Model Accuracy:%.2f'%acc)\n",
    "print(classification_report(test_sentiment, predictions))\n",
    "print(confusion_matrix(test_sentiment, predictions))"
   ]
  },
  {
   "cell_type": "code",
   "execution_count": 17,
   "metadata": {},
   "outputs": [
    {
     "data": {
      "image/png": "[encoded data removed]",
      "text/plain": [
       "<Figure size 288x288 with 2 Axes>"
      ]
     },
     "metadata": {
      "needs_background": "light"
     },
     "output_type": "display_data"
    }
   ],
   "source": [
    "\n",
    "ncmat=confusion_matrix(test_sentiment,predictions)\n",
    "plot.matshow(ncmat)\n",
    "plot.colorbar()\n",
    "plot.show()\n"
   ]
  },
  {
   "cell_type": "code",
   "execution_count": null,
   "metadata": {},
   "outputs": [],
   "source": []
  }
 ],
 "metadata": {
  "kernelspec": {
   "display_name": "Python 3",
   "language": "python",
   "name": "python3"
  },
  "language_info": {
   "codemirror_mode": {
    "name": "ipython",
    "version": 3
   },
   "file_extension": ".py",
   "mimetype": "text/x-python",
   "name": "python",
   "nbconvert_exporter": "python",
   "pygments_lexer": "ipython3",
   "version": "3.7.6"
  }
 },
 "nbformat": 4,
 "nbformat_minor": 2
}
